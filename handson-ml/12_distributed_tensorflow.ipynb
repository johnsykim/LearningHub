{
  "nbformat": 4,
  "nbformat_minor": 0,
  "metadata": {
    "kernelspec": {
      "display_name": "Python 3",
      "language": "python",
      "name": "python3"
    },
    "language_info": {
      "codemirror_mode": {
        "name": "ipython",
        "version": 3
      },
      "file_extension": ".py",
      "mimetype": "text/x-python",
      "name": "python",
      "nbconvert_exporter": "python",
      "pygments_lexer": "ipython3",
      "version": "3.6.5"
    },
    "nav_menu": {},
    "toc": {
      "navigate_menu": true,
      "number_sections": true,
      "sideBar": true,
      "threshold": 6,
      "toc_cell": false,
      "toc_section_display": "block",
      "toc_window_display": false
    },
    "colab": {
      "name": "12_distributed_tensorflow.ipynb",
      "provenance": [],
      "include_colab_link": true
    }
  },
  "cells": [
    {
      "cell_type": "markdown",
      "metadata": {
        "id": "view-in-github",
        "colab_type": "text"
      },
      "source": [
        "<a href=\"https://colab.research.google.com/github/johnsykim/self_learning/blob/master/handson-ml/12_distributed_tensorflow.ipynb\" target=\"_parent\"><img src=\"https://colab.research.google.com/assets/colab-badge.svg\" alt=\"Open In Colab\"/></a>"
      ]
    },
    {
      "cell_type": "markdown",
      "metadata": {
        "id": "Dqpr0n1TETB4",
        "colab_type": "text"
      },
      "source": [
        "**Chapter 12 – Distributed TensorFlow**"
      ]
    },
    {
      "cell_type": "markdown",
      "metadata": {
        "id": "-UlA_5QXETB5",
        "colab_type": "text"
      },
      "source": [
        "_This notebook contains all the sample code and solutions to the exercises in chapter 12._"
      ]
    },
    {
      "cell_type": "markdown",
      "metadata": {
        "id": "-ELMHfCaETB6",
        "colab_type": "text"
      },
      "source": [
        "# Setup"
      ]
    },
    {
      "cell_type": "markdown",
      "metadata": {
        "id": "rJsLL79rETB6",
        "colab_type": "text"
      },
      "source": [
        "First, let's make sure this notebook works well in both python 2 and 3, import a few common modules, ensure MatplotLib plots figures inline and prepare a function to save the figures:"
      ]
    },
    {
      "cell_type": "code",
      "metadata": {
        "id": "4VI0tcCKETB6",
        "colab_type": "code",
        "colab": {}
      },
      "source": [
        "# To support both python 2 and python 3\n",
        "from __future__ import division, print_function, unicode_literals\n",
        "\n",
        "# Common imports\n",
        "import numpy as np\n",
        "import os\n",
        "\n",
        "# to make this notebook's output stable across runs\n",
        "def reset_graph(seed=42):\n",
        "    tf.reset_default_graph()\n",
        "    tf.set_random_seed(seed)\n",
        "    np.random.seed(seed)\n",
        "\n",
        "# To plot pretty figures\n",
        "%matplotlib inline\n",
        "import matplotlib\n",
        "import matplotlib.pyplot as plt\n",
        "plt.rcParams['axes.labelsize'] = 14\n",
        "plt.rcParams['xtick.labelsize'] = 12\n",
        "plt.rcParams['ytick.labelsize'] = 12\n",
        "\n",
        "# Where to save the figures\n",
        "PROJECT_ROOT_DIR = \".\"\n",
        "CHAPTER_ID = \"distributed\"\n",
        "\n",
        "def save_fig(fig_id, tight_layout=True):\n",
        "    path = os.path.join(PROJECT_ROOT_DIR, \"images\", CHAPTER_ID, fig_id + \".png\")\n",
        "    print(\"Saving figure\", fig_id)\n",
        "    if tight_layout:\n",
        "        plt.tight_layout()\n",
        "    plt.savefig(path, format='png', dpi=300)"
      ],
      "execution_count": null,
      "outputs": []
    },
    {
      "cell_type": "markdown",
      "metadata": {
        "id": "PWSxhSCdETB9",
        "colab_type": "text"
      },
      "source": [
        "# Local server"
      ]
    },
    {
      "cell_type": "code",
      "metadata": {
        "id": "eCa3m-tcETB-",
        "colab_type": "code",
        "colab": {}
      },
      "source": [
        "import tensorflow as tf"
      ],
      "execution_count": null,
      "outputs": []
    },
    {
      "cell_type": "code",
      "metadata": {
        "id": "W1cAd6j8ETCB",
        "colab_type": "code",
        "colab": {}
      },
      "source": [
        "c = tf.constant(\"Hello distributed TensorFlow!\")\n",
        "server = tf.train.Server.create_local_server()"
      ],
      "execution_count": null,
      "outputs": []
    },
    {
      "cell_type": "code",
      "metadata": {
        "id": "wW7C4qnBETCE",
        "colab_type": "code",
        "colab": {},
        "outputId": "e37dbbb3-6e03-4665-f90f-70c0a0d99cf6"
      },
      "source": [
        "with tf.Session(server.target) as sess:\n",
        "    print(sess.run(c))"
      ],
      "execution_count": null,
      "outputs": [
        {
          "output_type": "stream",
          "text": [
            "b'Hello distributed TensorFlow!'\n"
          ],
          "name": "stdout"
        }
      ]
    },
    {
      "cell_type": "markdown",
      "metadata": {
        "id": "LntmGaYbETCH",
        "colab_type": "text"
      },
      "source": [
        "# Cluster"
      ]
    },
    {
      "cell_type": "code",
      "metadata": {
        "id": "sEyx6uMhETCH",
        "colab_type": "code",
        "colab": {}
      },
      "source": [
        "cluster_spec = tf.train.ClusterSpec({\n",
        "    \"ps\": [\n",
        "        \"127.0.0.1:2221\",  # /job:ps/task:0\n",
        "        \"127.0.0.1:2222\",  # /job:ps/task:1\n",
        "    ],\n",
        "    \"worker\": [\n",
        "        \"127.0.0.1:2223\",  # /job:worker/task:0\n",
        "        \"127.0.0.1:2224\",  # /job:worker/task:1\n",
        "        \"127.0.0.1:2225\",  # /job:worker/task:2\n",
        "    ]})"
      ],
      "execution_count": null,
      "outputs": []
    },
    {
      "cell_type": "code",
      "metadata": {
        "id": "9EmY3JXPETCL",
        "colab_type": "code",
        "colab": {}
      },
      "source": [
        "task_ps0 = tf.train.Server(cluster_spec, job_name=\"ps\", task_index=0)\n",
        "task_ps1 = tf.train.Server(cluster_spec, job_name=\"ps\", task_index=1)\n",
        "task_worker0 = tf.train.Server(cluster_spec, job_name=\"worker\", task_index=0)\n",
        "task_worker1 = tf.train.Server(cluster_spec, job_name=\"worker\", task_index=1)\n",
        "task_worker2 = tf.train.Server(cluster_spec, job_name=\"worker\", task_index=2)"
      ],
      "execution_count": null,
      "outputs": []
    },
    {
      "cell_type": "markdown",
      "metadata": {
        "id": "mRashp6xETCO",
        "colab_type": "text"
      },
      "source": [
        "# Pinning operations across devices and servers"
      ]
    },
    {
      "cell_type": "code",
      "metadata": {
        "id": "8eiwh9fUETCP",
        "colab_type": "code",
        "colab": {}
      },
      "source": [
        "reset_graph()\n",
        "\n",
        "with tf.device(\"/job:ps\"):\n",
        "    a = tf.Variable(1.0, name=\"a\")\n",
        "\n",
        "with tf.device(\"/job:worker\"):\n",
        "    b = a + 2\n",
        "\n",
        "with tf.device(\"/job:worker/task:1\"):\n",
        "    c = a + b"
      ],
      "execution_count": null,
      "outputs": []
    },
    {
      "cell_type": "code",
      "metadata": {
        "id": "r-kYOtlXETCS",
        "colab_type": "code",
        "colab": {},
        "outputId": "0bd16c41-c6a7-4854-e739-45760fd64a1a"
      },
      "source": [
        "with tf.Session(\"grpc://127.0.0.1:2221\") as sess:\n",
        "    sess.run(a.initializer)\n",
        "    print(c.eval())"
      ],
      "execution_count": null,
      "outputs": [
        {
          "output_type": "stream",
          "text": [
            "4.0\n"
          ],
          "name": "stdout"
        }
      ]
    },
    {
      "cell_type": "code",
      "metadata": {
        "id": "lBfiTNnrETCW",
        "colab_type": "code",
        "colab": {}
      },
      "source": [
        "reset_graph()\n",
        "\n",
        "with tf.device(tf.train.replica_device_setter(\n",
        "        ps_tasks=2,\n",
        "        ps_device=\"/job:ps\",\n",
        "        worker_device=\"/job:worker\")):\n",
        "    v1 = tf.Variable(1.0, name=\"v1\")  # pinned to /job:ps/task:0 (defaults to /cpu:0)\n",
        "    v2 = tf.Variable(2.0, name=\"v2\")  # pinned to /job:ps/task:1 (defaults to /cpu:0)\n",
        "    v3 = tf.Variable(3.0, name=\"v3\")  # pinned to /job:ps/task:0 (defaults to /cpu:0)\n",
        "    s = v1 + v2            # pinned to /job:worker (defaults to task:0/cpu:0)\n",
        "    with tf.device(\"/task:1\"):\n",
        "        p1 = 2 * s         # pinned to /job:worker/task:1 (defaults to /cpu:0)\n",
        "        with tf.device(\"/cpu:0\"):\n",
        "            p2 = 3 * s     # pinned to /job:worker/task:1/cpu:0\n",
        "\n",
        "config = tf.ConfigProto()\n",
        "config.log_device_placement = True\n",
        "\n",
        "with tf.Session(\"grpc://127.0.0.1:2221\", config=config) as sess:\n",
        "    v1.initializer.run()"
      ],
      "execution_count": null,
      "outputs": []
    },
    {
      "cell_type": "markdown",
      "metadata": {
        "id": "tHe1jaQiETCb",
        "colab_type": "text"
      },
      "source": [
        "# Readers – the old way"
      ]
    },
    {
      "cell_type": "code",
      "metadata": {
        "id": "cL1UI85oETCb",
        "colab_type": "code",
        "colab": {}
      },
      "source": [
        "reset_graph()"
      ],
      "execution_count": null,
      "outputs": []
    },
    {
      "cell_type": "code",
      "metadata": {
        "id": "FdXZ-kcJETCf",
        "colab_type": "code",
        "colab": {},
        "outputId": "e6de845f-c3c7-4183-df63-2feb590297c0"
      },
      "source": [
        "default1 = tf.constant([5.])\n",
        "default2 = tf.constant([6])\n",
        "default3 = tf.constant([7])\n",
        "dec = tf.decode_csv(tf.constant(\"1.,,44\"),\n",
        "                    record_defaults=[default1, default2, default3])\n",
        "with tf.Session() as sess:\n",
        "    print(sess.run(dec))"
      ],
      "execution_count": null,
      "outputs": [
        {
          "output_type": "stream",
          "text": [
            "[1.0, 6, 44]\n"
          ],
          "name": "stdout"
        }
      ]
    },
    {
      "cell_type": "code",
      "metadata": {
        "id": "DhWkKu-HETCh",
        "colab_type": "code",
        "colab": {},
        "outputId": "ef189174-9f4c-455e-dc3a-1e6c244e1d32"
      },
      "source": [
        "reset_graph()\n",
        "\n",
        "test_csv = open(\"my_test.csv\", \"w\")\n",
        "test_csv.write(\"x1, x2 , target\\n\")\n",
        "test_csv.write(\"1.,, 0\\n\")\n",
        "test_csv.write(\"4., 5. , 1\\n\")\n",
        "test_csv.write(\"7., 8. , 0\\n\")\n",
        "test_csv.close()\n",
        "\n",
        "filename_queue = tf.FIFOQueue(capacity=10, dtypes=[tf.string], shapes=[()])\n",
        "filename = tf.placeholder(tf.string)\n",
        "enqueue_filename = filename_queue.enqueue([filename])\n",
        "close_filename_queue = filename_queue.close()\n",
        "\n",
        "reader = tf.TextLineReader(skip_header_lines=1)\n",
        "key, value = reader.read(filename_queue)\n",
        "\n",
        "x1, x2, target = tf.decode_csv(value, record_defaults=[[-1.], [-1.], [-1]])\n",
        "features = tf.stack([x1, x2])\n",
        "\n",
        "instance_queue = tf.RandomShuffleQueue(\n",
        "    capacity=10, min_after_dequeue=2,\n",
        "    dtypes=[tf.float32, tf.int32], shapes=[[2],[]],\n",
        "    name=\"instance_q\", shared_name=\"shared_instance_q\")\n",
        "enqueue_instance = instance_queue.enqueue([features, target])\n",
        "close_instance_queue = instance_queue.close()\n",
        "\n",
        "minibatch_instances, minibatch_targets = instance_queue.dequeue_up_to(2)\n",
        "\n",
        "with tf.Session() as sess:\n",
        "    sess.run(enqueue_filename, feed_dict={filename: \"my_test.csv\"})\n",
        "    sess.run(close_filename_queue)\n",
        "    try:\n",
        "        while True:\n",
        "            sess.run(enqueue_instance)\n",
        "    except tf.errors.OutOfRangeError as ex:\n",
        "        print(\"No more files to read\")\n",
        "    sess.run(close_instance_queue)\n",
        "    try:\n",
        "        while True:\n",
        "            print(sess.run([minibatch_instances, minibatch_targets]))\n",
        "    except tf.errors.OutOfRangeError as ex:\n",
        "        print(\"No more training instances\")"
      ],
      "execution_count": null,
      "outputs": [
        {
          "output_type": "stream",
          "text": [
            "No more files to read\n",
            "[array([[ 4.,  5.],\n",
            "       [ 1., -1.]], dtype=float32), array([1, 0], dtype=int32)]\n",
            "[array([[7., 8.]], dtype=float32), array([0], dtype=int32)]\n",
            "No more training instances\n"
          ],
          "name": "stdout"
        }
      ]
    },
    {
      "cell_type": "code",
      "metadata": {
        "id": "bbjhJAEiETCk",
        "colab_type": "code",
        "colab": {}
      },
      "source": [
        "#coord = tf.train.Coordinator()\n",
        "#threads = tf.train.start_queue_runners(coord=coord)\n",
        "#filename_queue = tf.train.string_input_producer([\"test.csv\"])\n",
        "#coord.request_stop()\n",
        "#coord.join(threads)"
      ],
      "execution_count": null,
      "outputs": []
    },
    {
      "cell_type": "markdown",
      "metadata": {
        "id": "TkfHKHqJETCm",
        "colab_type": "text"
      },
      "source": [
        "# Queue runners and coordinators"
      ]
    },
    {
      "cell_type": "code",
      "metadata": {
        "id": "s5wMNlewETCn",
        "colab_type": "code",
        "colab": {},
        "outputId": "eb92eb0b-c262-4786-db0e-4f79254e987b"
      },
      "source": [
        "reset_graph()\n",
        "\n",
        "filename_queue = tf.FIFOQueue(capacity=10, dtypes=[tf.string], shapes=[()])\n",
        "filename = tf.placeholder(tf.string)\n",
        "enqueue_filename = filename_queue.enqueue([filename])\n",
        "close_filename_queue = filename_queue.close()\n",
        "\n",
        "reader = tf.TextLineReader(skip_header_lines=1)\n",
        "key, value = reader.read(filename_queue)\n",
        "\n",
        "x1, x2, target = tf.decode_csv(value, record_defaults=[[-1.], [-1.], [-1]])\n",
        "features = tf.stack([x1, x2])\n",
        "\n",
        "instance_queue = tf.RandomShuffleQueue(\n",
        "    capacity=10, min_after_dequeue=2,\n",
        "    dtypes=[tf.float32, tf.int32], shapes=[[2],[]],\n",
        "    name=\"instance_q\", shared_name=\"shared_instance_q\")\n",
        "enqueue_instance = instance_queue.enqueue([features, target])\n",
        "close_instance_queue = instance_queue.close()\n",
        "\n",
        "minibatch_instances, minibatch_targets = instance_queue.dequeue_up_to(2)\n",
        "\n",
        "n_threads = 5\n",
        "queue_runner = tf.train.QueueRunner(instance_queue, [enqueue_instance] * n_threads)\n",
        "coord = tf.train.Coordinator()\n",
        "\n",
        "with tf.Session() as sess:\n",
        "    sess.run(enqueue_filename, feed_dict={filename: \"my_test.csv\"})\n",
        "    sess.run(close_filename_queue)\n",
        "    enqueue_threads = queue_runner.create_threads(sess, coord=coord, start=True)\n",
        "    try:\n",
        "        while True:\n",
        "            print(sess.run([minibatch_instances, minibatch_targets]))\n",
        "    except tf.errors.OutOfRangeError as ex:\n",
        "        print(\"No more training instances\")"
      ],
      "execution_count": null,
      "outputs": [
        {
          "output_type": "stream",
          "text": [
            "[array([[ 7.,  8.],\n",
            "       [ 1., -1.]], dtype=float32), array([0, 0], dtype=int32)]\n",
            "[array([[4., 5.]], dtype=float32), array([1], dtype=int32)]\n",
            "No more training instances\n"
          ],
          "name": "stdout"
        }
      ]
    },
    {
      "cell_type": "code",
      "metadata": {
        "id": "w3j3h2KIETCp",
        "colab_type": "code",
        "colab": {},
        "outputId": "ab0c476b-3578-4101-eeb8-6080d8d47e42"
      },
      "source": [
        "reset_graph()\n",
        "\n",
        "def read_and_push_instance(filename_queue, instance_queue):\n",
        "    reader = tf.TextLineReader(skip_header_lines=1)\n",
        "    key, value = reader.read(filename_queue)\n",
        "    x1, x2, target = tf.decode_csv(value, record_defaults=[[-1.], [-1.], [-1]])\n",
        "    features = tf.stack([x1, x2])\n",
        "    enqueue_instance = instance_queue.enqueue([features, target])\n",
        "    return enqueue_instance\n",
        "\n",
        "filename_queue = tf.FIFOQueue(capacity=10, dtypes=[tf.string], shapes=[()])\n",
        "filename = tf.placeholder(tf.string)\n",
        "enqueue_filename = filename_queue.enqueue([filename])\n",
        "close_filename_queue = filename_queue.close()\n",
        "\n",
        "instance_queue = tf.RandomShuffleQueue(\n",
        "    capacity=10, min_after_dequeue=2,\n",
        "    dtypes=[tf.float32, tf.int32], shapes=[[2],[]],\n",
        "    name=\"instance_q\", shared_name=\"shared_instance_q\")\n",
        "\n",
        "minibatch_instances, minibatch_targets = instance_queue.dequeue_up_to(2)\n",
        "\n",
        "read_and_enqueue_ops = [read_and_push_instance(filename_queue, instance_queue) for i in range(5)]\n",
        "queue_runner = tf.train.QueueRunner(instance_queue, read_and_enqueue_ops)\n",
        "\n",
        "with tf.Session() as sess:\n",
        "    sess.run(enqueue_filename, feed_dict={filename: \"my_test.csv\"})\n",
        "    sess.run(close_filename_queue)\n",
        "    coord = tf.train.Coordinator()\n",
        "    enqueue_threads = queue_runner.create_threads(sess, coord=coord, start=True)\n",
        "    try:\n",
        "        while True:\n",
        "            print(sess.run([minibatch_instances, minibatch_targets]))\n",
        "    except tf.errors.OutOfRangeError as ex:\n",
        "        print(\"No more training instances\")\n",
        "\n"
      ],
      "execution_count": null,
      "outputs": [
        {
          "output_type": "stream",
          "text": [
            "[array([[ 4.,  5.],\n",
            "       [ 1., -1.]], dtype=float32), array([1, 0], dtype=int32)]\n",
            "[array([[7., 8.]], dtype=float32), array([0], dtype=int32)]\n",
            "No more training instances\n"
          ],
          "name": "stdout"
        }
      ]
    },
    {
      "cell_type": "markdown",
      "metadata": {
        "id": "4Kl-_gy5ETCr",
        "colab_type": "text"
      },
      "source": [
        "# Setting a timeout"
      ]
    },
    {
      "cell_type": "code",
      "metadata": {
        "id": "7wqiLJoCETCr",
        "colab_type": "code",
        "colab": {},
        "outputId": "de72eaa3-956c-419d-953f-a3d668842640"
      },
      "source": [
        "reset_graph()\n",
        "\n",
        "q = tf.FIFOQueue(capacity=10, dtypes=[tf.float32], shapes=[()])\n",
        "v = tf.placeholder(tf.float32)\n",
        "enqueue = q.enqueue([v])\n",
        "dequeue = q.dequeue()\n",
        "output = dequeue + 1\n",
        "\n",
        "config = tf.ConfigProto()\n",
        "config.operation_timeout_in_ms = 1000\n",
        "\n",
        "with tf.Session(config=config) as sess:\n",
        "    sess.run(enqueue, feed_dict={v: 1.0})\n",
        "    sess.run(enqueue, feed_dict={v: 2.0})\n",
        "    sess.run(enqueue, feed_dict={v: 3.0})\n",
        "    print(sess.run(output))\n",
        "    print(sess.run(output, feed_dict={dequeue: 5}))\n",
        "    print(sess.run(output))\n",
        "    print(sess.run(output))\n",
        "    try:\n",
        "        print(sess.run(output))\n",
        "    except tf.errors.DeadlineExceededError as ex:\n",
        "        print(\"Timed out while dequeuing\")\n"
      ],
      "execution_count": null,
      "outputs": [
        {
          "output_type": "stream",
          "text": [
            "2.0\n",
            "6.0\n",
            "3.0\n",
            "4.0\n",
            "Timed out while dequeuing\n"
          ],
          "name": "stdout"
        }
      ]
    },
    {
      "cell_type": "markdown",
      "metadata": {
        "id": "wBfXPt3hETCu",
        "colab_type": "text"
      },
      "source": [
        "# Data API"
      ]
    },
    {
      "cell_type": "markdown",
      "metadata": {
        "id": "RleZ1avQETCv",
        "colab_type": "text"
      },
      "source": [
        "The Data API, introduced in TensorFlow 1.4, makes reading data efficiently much easier."
      ]
    },
    {
      "cell_type": "code",
      "metadata": {
        "id": "Ev6e5NTrETCv",
        "colab_type": "code",
        "colab": {}
      },
      "source": [
        "tf.reset_default_graph()"
      ],
      "execution_count": null,
      "outputs": []
    },
    {
      "cell_type": "markdown",
      "metadata": {
        "id": "QjyvKr2kETCx",
        "colab_type": "text"
      },
      "source": [
        "Let's start with a simple dataset composed of three times the integers 0 to 9, in batches of 7:"
      ]
    },
    {
      "cell_type": "code",
      "metadata": {
        "id": "4i17XxQVETCx",
        "colab_type": "code",
        "colab": {}
      },
      "source": [
        "dataset = tf.data.Dataset.from_tensor_slices(np.arange(10))\n",
        "dataset = dataset.repeat(3).batch(7)"
      ],
      "execution_count": null,
      "outputs": []
    },
    {
      "cell_type": "markdown",
      "metadata": {
        "id": "ZAO0qzF7ETCz",
        "colab_type": "text"
      },
      "source": [
        "The first line creates a dataset containing the integers 0 through 9. The second line creates a new dataset based on the first one, repeating its elements three times and creating batches of 7 elements. As you can see, we start with a source dataset, then we chain calls to various methods to apply transformations to the data."
      ]
    },
    {
      "cell_type": "markdown",
      "metadata": {
        "id": "ivdMjWU7ETCz",
        "colab_type": "text"
      },
      "source": [
        "Next, we create a one-shot-iterator to go through this dataset just once, and we call its `get_next()` method to get a tensor that represents the next element."
      ]
    },
    {
      "cell_type": "code",
      "metadata": {
        "id": "U28SHiuDETC0",
        "colab_type": "code",
        "colab": {}
      },
      "source": [
        "iterator = dataset.make_one_shot_iterator()\n",
        "next_element = iterator.get_next()"
      ],
      "execution_count": null,
      "outputs": []
    },
    {
      "cell_type": "markdown",
      "metadata": {
        "id": "E62voAzKETC2",
        "colab_type": "text"
      },
      "source": [
        "Let's repeatedly evaluate `next_element` to go through the dataset. When there are not more elements, we get an `OutOfRangeError`:"
      ]
    },
    {
      "cell_type": "code",
      "metadata": {
        "id": "PWfT2mUSETC3",
        "colab_type": "code",
        "colab": {},
        "outputId": "72e8651e-c545-4fa1-e13d-5266f3a07b23"
      },
      "source": [
        "with tf.Session() as sess:\n",
        "    try:\n",
        "        while True:\n",
        "            print(next_element.eval())\n",
        "    except tf.errors.OutOfRangeError:\n",
        "        print(\"Done\")"
      ],
      "execution_count": null,
      "outputs": [
        {
          "output_type": "stream",
          "text": [
            "[0 1 2 3 4 5 6]\n",
            "[7 8 9 0 1 2 3]\n",
            "[4 5 6 7 8 9 0]\n",
            "[1 2 3 4 5 6 7]\n",
            "[8 9]\n",
            "Done\n"
          ],
          "name": "stdout"
        }
      ]
    },
    {
      "cell_type": "markdown",
      "metadata": {
        "id": "I5Qq9st8ETC5",
        "colab_type": "text"
      },
      "source": [
        "Great! It worked fine."
      ]
    },
    {
      "cell_type": "markdown",
      "metadata": {
        "id": "0KAnvEj-ETC5",
        "colab_type": "text"
      },
      "source": [
        "Note that, as always, a tensor is only evaluated once each time we run the graph (`sess.run()`): so even if we evaluate multiple tensors that all depend on `next_element`, it is only evaluated once. This is true as well if we ask for `next_element` to be evaluated twice in just one run:"
      ]
    },
    {
      "cell_type": "code",
      "metadata": {
        "id": "PJX5ULAMETC5",
        "colab_type": "code",
        "colab": {},
        "outputId": "ac9ba6c5-b740-4cfb-95dc-e1da7687c35a"
      },
      "source": [
        "with tf.Session() as sess:\n",
        "    try:\n",
        "        while True:\n",
        "            print(sess.run([next_element, next_element]))\n",
        "    except tf.errors.OutOfRangeError:\n",
        "        print(\"Done\")"
      ],
      "execution_count": null,
      "outputs": [
        {
          "output_type": "stream",
          "text": [
            "[array([0, 1, 2, 3, 4, 5, 6]), array([0, 1, 2, 3, 4, 5, 6])]\n",
            "[array([7, 8, 9, 0, 1, 2, 3]), array([7, 8, 9, 0, 1, 2, 3])]\n",
            "[array([4, 5, 6, 7, 8, 9, 0]), array([4, 5, 6, 7, 8, 9, 0])]\n",
            "[array([1, 2, 3, 4, 5, 6, 7]), array([1, 2, 3, 4, 5, 6, 7])]\n",
            "[array([8, 9]), array([8, 9])]\n",
            "Done\n"
          ],
          "name": "stdout"
        }
      ]
    },
    {
      "cell_type": "markdown",
      "metadata": {
        "id": "sCoW275IETC8",
        "colab_type": "text"
      },
      "source": [
        "The `interleave()` method is powerful but a bit tricky to grasp at first. The easiest way to understand it is to look at an example:"
      ]
    },
    {
      "cell_type": "code",
      "metadata": {
        "id": "aez9_ARxETC9",
        "colab_type": "code",
        "colab": {}
      },
      "source": [
        "tf.reset_default_graph()"
      ],
      "execution_count": null,
      "outputs": []
    },
    {
      "cell_type": "code",
      "metadata": {
        "id": "kELJlaP8ETC_",
        "colab_type": "code",
        "colab": {}
      },
      "source": [
        "dataset = tf.data.Dataset.from_tensor_slices(np.arange(10))\n",
        "dataset = dataset.repeat(3).batch(7)\n",
        "dataset = dataset.interleave(\n",
        "    lambda v: tf.data.Dataset.from_tensor_slices(v),\n",
        "    cycle_length=3,\n",
        "    block_length=2)\n",
        "iterator = dataset.make_one_shot_iterator()\n",
        "next_element = iterator.get_next()"
      ],
      "execution_count": null,
      "outputs": []
    },
    {
      "cell_type": "code",
      "metadata": {
        "id": "EZ5HJtCMETDB",
        "colab_type": "code",
        "colab": {},
        "outputId": "b2c55d0f-3f6c-45dd-d12e-ed3a32dde242"
      },
      "source": [
        "with tf.Session() as sess:\n",
        "    try:\n",
        "        while True:\n",
        "            print(next_element.eval(), end=\",\")\n",
        "    except tf.errors.OutOfRangeError:\n",
        "        print(\"Done\")"
      ],
      "execution_count": null,
      "outputs": [
        {
          "output_type": "stream",
          "text": [
            "0,1,7,8,4,5,2,3,9,0,6,7,4,5,1,2,8,9,6,3,0,1,2,8,9,3,4,5,6,7,Done\n"
          ],
          "name": "stdout"
        }
      ]
    },
    {
      "cell_type": "markdown",
      "metadata": {
        "id": "c1KpBoZ5ETDD",
        "colab_type": "text"
      },
      "source": [
        "Because `cycle_length=3`, the new dataset starts by pulling 3 elements from the previous dataset: that's `[0,1,2,3,4,5,6]`, `[7,8,9,0,1,2,3]` and `[4,5,6,7,8,9,0]`. Then it calls the lambda function we gave it to create one dataset for each of the elements. Since we use `Dataset.from_tensor_slices()`, each dataset is going to return its elements one by one. Next, it pulls two items (since `block_length=2`) from each of these three datasets, and it iterates until all three datasets are out of items: 0,1 (from 1st), 7,8 (from 2nd), 4,5 (from 3rd), 2,3 (from 1st), 9,0 (from 2nd), and so on until 8,9 (from 3rd), 6 (from 1st), 3 (from 2nd), 0 (from 3rd). Next it tries to pull the next 3 elements from the original dataset, but there are just two left: `[1,2,3,4,5,6,7]` and `[8,9]`. Again, it creates datasets from these elements, and it pulls two items from each until both datasets are out of items: 1,2 (from 1st), 8,9 (from 2nd), 3,4 (from 1st), 5,6 (from 1st), 7 (from 1st). Notice that there's no interleaving at the end since the arrays do not have the same length."
      ]
    },
    {
      "cell_type": "markdown",
      "metadata": {
        "id": "nbYPkXBoETDD",
        "colab_type": "text"
      },
      "source": [
        "# Readers – the new way"
      ]
    },
    {
      "cell_type": "markdown",
      "metadata": {
        "id": "gucA4ZgQETDD",
        "colab_type": "text"
      },
      "source": [
        "Instead of using a source dataset based on `from_tensor_slices()` or `from_tensor()`, we can use a reader dataset. It handles most of the complexity for us (e.g., threads):"
      ]
    },
    {
      "cell_type": "code",
      "metadata": {
        "id": "C2RG3F4METDE",
        "colab_type": "code",
        "colab": {}
      },
      "source": [
        "tf.reset_default_graph()"
      ],
      "execution_count": null,
      "outputs": []
    },
    {
      "cell_type": "code",
      "metadata": {
        "id": "kyZpYfFqETDF",
        "colab_type": "code",
        "colab": {}
      },
      "source": [
        "filenames = [\"my_test.csv\"]"
      ],
      "execution_count": null,
      "outputs": []
    },
    {
      "cell_type": "code",
      "metadata": {
        "id": "h-SmwsCQETDI",
        "colab_type": "code",
        "colab": {}
      },
      "source": [
        "dataset = tf.data.TextLineDataset(filenames)"
      ],
      "execution_count": null,
      "outputs": []
    },
    {
      "cell_type": "markdown",
      "metadata": {
        "id": "-viI2HifETDK",
        "colab_type": "text"
      },
      "source": [
        "We still need to tell it how to decode each line:"
      ]
    },
    {
      "cell_type": "code",
      "metadata": {
        "id": "PZKeDa8XETDL",
        "colab_type": "code",
        "colab": {}
      },
      "source": [
        "def decode_csv_line(line):\n",
        "    x1, x2, y = tf.decode_csv(\n",
        "        line, record_defaults=[[-1.], [-1.], [-1.]])\n",
        "    X = tf.stack([x1, x2])\n",
        "    return X, y"
      ],
      "execution_count": null,
      "outputs": []
    },
    {
      "cell_type": "markdown",
      "metadata": {
        "id": "EHjcOL-HETDM",
        "colab_type": "text"
      },
      "source": [
        "Next, we can apply this decoding function to each element in the dataset using `map()`:"
      ]
    },
    {
      "cell_type": "code",
      "metadata": {
        "id": "1GsBsgVvETDN",
        "colab_type": "code",
        "colab": {}
      },
      "source": [
        "dataset = dataset.skip(1).map(decode_csv_line)"
      ],
      "execution_count": null,
      "outputs": []
    },
    {
      "cell_type": "markdown",
      "metadata": {
        "id": "NwEE9WlsETDP",
        "colab_type": "text"
      },
      "source": [
        "Finally, let's create a one-shot iterator:"
      ]
    },
    {
      "cell_type": "code",
      "metadata": {
        "id": "Ac23baj5ETDQ",
        "colab_type": "code",
        "colab": {}
      },
      "source": [
        "it = dataset.make_one_shot_iterator()\n",
        "X, y = it.get_next()"
      ],
      "execution_count": null,
      "outputs": []
    },
    {
      "cell_type": "code",
      "metadata": {
        "id": "Gp5_4m5aETDS",
        "colab_type": "code",
        "colab": {},
        "outputId": "59758aad-f84d-49a4-c755-97817c0c3c99"
      },
      "source": [
        "with tf.Session() as sess:\n",
        "    try:\n",
        "        while True:\n",
        "            X_val, y_val = sess.run([X, y])\n",
        "            print(X_val, y_val)\n",
        "    except tf.errors.OutOfRangeError as ex:\n",
        "        print(\"Done\")\n"
      ],
      "execution_count": null,
      "outputs": [
        {
          "output_type": "stream",
          "text": [
            "[ 1. -1.] 0.0\n",
            "[4. 5.] 1.0\n",
            "[7. 8.] 0.0\n",
            "Done\n"
          ],
          "name": "stdout"
        }
      ]
    },
    {
      "cell_type": "markdown",
      "metadata": {
        "collapsed": true,
        "id": "R0snNeseETDU",
        "colab_type": "text"
      },
      "source": [
        "# Exercise solutions"
      ]
    },
    {
      "cell_type": "markdown",
      "metadata": {
        "id": "OV5klnjWETDV",
        "colab_type": "text"
      },
      "source": [
        "**Coming soon**"
      ]
    },
    {
      "cell_type": "code",
      "metadata": {
        "id": "fFJbOdMBETDV",
        "colab_type": "code",
        "colab": {}
      },
      "source": [
        ""
      ],
      "execution_count": null,
      "outputs": []
    }
  ]
}